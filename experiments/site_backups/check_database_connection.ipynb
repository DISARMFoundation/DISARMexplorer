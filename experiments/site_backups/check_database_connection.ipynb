{
 "cells": [
  {
   "cell_type": "code",
   "execution_count": 1,
   "metadata": {},
   "outputs": [
    {
     "name": "stdout",
     "output_type": "stream",
     "text": [
      "('P01', 'Planning', '1', 'Envision the desired outcome. Lay out effective ways of achieving it. Communicate the vision, intent, and decisions, focusing on expected results.')\n",
      "('P02', 'Preparation', '2', 'Activities conducted before execution to improve the ability to conduct the action. Examples include: development of the ecosystem needed to support the action: people, network, channels, content etc.')\n",
      "('P03', 'Execution', '3', 'Run the action, from initial exposure to wrap-up and/or maintaining presence etc.')\n",
      "('P04', 'Evaluation', '4', 'Evaluate effectiveness of action, for use in future plans')\n"
     ]
    }
   ],
   "source": [
    "import sqlite3\n",
    "olddb = sqlite3.connect('amitt_sqlite.db')\n",
    "\n",
    "# phases\n",
    "oldcursor = olddb.execute(\"SELECT id, name, rank, summary from df_phases\")\n",
    "for row in oldcursor:\n",
    "    print('{}'.format(row))"
   ]
  },
  {
   "cell_type": "code",
   "execution_count": 3,
   "metadata": {},
   "outputs": [],
   "source": [
    "oldcursor = olddb.execute('SELECT name FROM sqlite_master WHERE type = \"table\"')"
   ]
  },
  {
   "cell_type": "code",
   "execution_count": 5,
   "metadata": {},
   "outputs": [
    {
     "name": "stdout",
     "output_type": "stream",
     "text": [
      "('df_phases',)\n",
      "('df_techniques',)\n",
      "('df_tasks',)\n",
      "('df_incidents',)\n",
      "('df_counters',)\n",
      "('df_detections',)\n",
      "('df_actors',)\n",
      "('df_resources',)\n",
      "('df_responsetypes',)\n",
      "('df_metatechniques',)\n",
      "('it',)\n",
      "('df_tactics',)\n",
      "('df_techniques_per_tactic',)\n",
      "('df_counters_per_tactic',)\n",
      "('cross_counterid_techniqueid',)\n",
      "('cross_counterid_resourceid',)\n",
      "('cross_counterid_actorid',)\n"
     ]
    }
   ],
   "source": [
    "for row in oldcursor:\n",
    "    print('{}'.format(row))"
   ]
  },
  {
   "cell_type": "code",
   "execution_count": null,
   "metadata": {},
   "outputs": [],
   "source": []
  }
 ],
 "metadata": {
  "kernelspec": {
   "display_name": "Python 3",
   "language": "python",
   "name": "python3"
  },
  "language_info": {
   "codemirror_mode": {
    "name": "ipython",
    "version": 3
   },
   "file_extension": ".py",
   "mimetype": "text/x-python",
   "name": "python",
   "nbconvert_exporter": "python",
   "pygments_lexer": "ipython3",
   "version": "3.8.3"
  }
 },
 "nbformat": 4,
 "nbformat_minor": 4
}
