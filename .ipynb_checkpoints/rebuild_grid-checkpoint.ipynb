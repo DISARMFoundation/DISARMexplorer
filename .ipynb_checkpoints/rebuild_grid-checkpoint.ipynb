{
 "cells": [
  {
   "cell_type": "code",
   "execution_count": 14,
   "metadata": {},
   "outputs": [
    {
     "name": "stdout",
     "output_type": "stream",
     "text": [
      "[['TA01', 'TA02', 'TA03', 'TA04', 'TA05', 'TA06', 'TA07', 'TA08', 'TA09', 'TA10', 'TA11', 'TA12', 'TA13'], ['T0004', 'T0070', 'T0009', 'T0012', 'T0018', 'T0021', 'T0030', 'T0046', 'T0050', 'T0057', 'T0059', 'T0063', 'T0072'], ['T0003', 'T0069', 'T0007', 'T0010', 'T0016', 'T0019', 'T0038', 'T0045', 'T0048', 'T0060', 'T0061', 'T0062', 'T0071'], ['T0002', 'T0068', '', '', 'T0008', 'T0017', 'T0028', 'T0037', 'T0044', 'T0049', 'T0058', 'T0064', 'T0065'], ['T0001', 'T0067', '', '', '', '', '', '', 'T0015', 'T0027', 'T0036', 'T0043', 'T0047'], ['', 'T0066', '', '', '', '', '', '', 'T0014', 'T0026', 'T0035', 'T0042', 'T0056'], ['', 'T0006', '', '', '', '', '', '', 'T0013', 'T0025', 'T0034', 'T0041', 'T0055'], ['', '', '', '', '', '', '', '', 'T0011', 'T0024', 'T0033', 'T0040', 'T0054'], ['', '', '', '', '', '', '', '', '', 'T0023', 'T0032', 'T0039', 'T0053'], ['', '', '', '', '', '', '', '', '', '', 'T0022', 'T0031', 'T0052'], ['', '', '', '', '', '', '', '', '', '', 'T0020', 'T0029', 'T0051']]\n"
     ]
    }
   ],
   "source": [
    "import pandas as pd\n",
    "\n",
    "dftech = pd.read_csv('delme.csv')\n",
    "dftactics = pd.read_csv('delmetactics.csv')\n",
    "\n",
    "dflists = dftech.groupby('tactic_id')['disarm_id'].apply(list).reset_index()\n",
    "dflists = (dflists.rename(columns={'disarm_id': 'technique_id'})\n",
    " .merge(dftactics.rename(columns={'disarm_id': 'tactic_id'})[['tactic_id', 'phase_id', 'rank']], on='tactic_id')\n",
    " .sort_values('rank'))\n",
    "grid = []\n",
    "for row in dflists.iterrows():\n",
    "    rowdata = row[1]\n",
    "    # '''rowdata['phase_id'], '''\n",
    "    grid += [[rowdata['tactic_id']]+ rowdata['technique_id']]\n",
    "dfgrid = pd.DataFrame(grid).fillna('')\n",
    "\n",
    "techniques_grid = []\n",
    "for col in dfgrid.columns:\n",
    "    collist = dfgrid[col].to_list()\n",
    "    techniques_grid += [collist[:2] + sorted(collist[2:])]\n",
    "print('{}'.format(techniques_grid))"
   ]
  },
  {
   "cell_type": "code",
   "execution_count": 4,
   "metadata": {},
   "outputs": [
    {
     "name": "stdout",
     "output_type": "stream",
     "text": [
      "[['TA01', 'TA02', 'TA03', 'TA04', 'TA05', 'TA06', 'TA07', 'TA08', 'TA09', 'TA10', 'TA11', 'TA12', 'TA13'], ['T0004', 'T0070', 'T0009', 'T0012', 'T0018', 'T0021', 'T0030', 'T0046', 'T0050', 'T0057', 'T0059', 'T0063', 'T0072'], ['T0003', 'T0069', 'T0007', 'T0010', 'T0016', 'T0019', 'T0038', 'T0045', 'T0048', 'T0061', 'T0060', 'T0062', 'T0071'], ['T0002', 'T0068', 'T0008', 'T0065', 'T0017', 'T0028', 'T0037', 'T0044', 'T0049', '', 'T0058', 'T0064', ''], ['T0001', 'T0067', '', 'T0015', '', 'T0027', 'T0036', 'T0043', 'T0047', '', '', '', ''], ['', 'T0066', '', 'T0014', '', 'T0026', 'T0035', 'T0042', 'T0056', '', '', '', ''], ['', 'T0006', '', 'T0013', '', 'T0025', 'T0034', 'T0041', 'T0055', '', '', '', ''], ['', '', '', 'T0011', '', 'T0024', 'T0033', 'T0040', 'T0054', '', '', '', ''], ['', '', '', '', '', 'T0023', 'T0032', 'T0039', 'T0053', '', '', '', ''], ['', '', '', '', '', 'T0022', 'T0031', '', 'T0052', '', '', '', ''], ['', '', '', '', '', 'T0020', 'T0029', '', 'T0051', '', '', '', '']]\n"
     ]
    }
   ],
   "source": [
    "dflists = dftech.groupby('tactic_id')['disarm_id'].apply(list).reset_index()\n",
    "dfidgrid = pd.DataFrame(dflists['disarm_id'].to_list())\n",
    "dfgrid = pd.concat([dflists[['tactic_id']], dfidgrid], axis=1).fillna('')\n",
    "techniques_grid = [dfgrid[col].to_list() for col in dfgrid.columns]\n",
    "print('{}'.format(techniques_grid))"
   ]
  },
  {
   "cell_type": "code",
   "execution_count": null,
   "metadata": {},
   "outputs": [],
   "source": []
  }
 ],
 "metadata": {
  "kernelspec": {
   "display_name": "Python 3",
   "language": "python",
   "name": "python3"
  },
  "language_info": {
   "codemirror_mode": {
    "name": "ipython",
    "version": 3
   },
   "file_extension": ".py",
   "mimetype": "text/x-python",
   "name": "python",
   "nbconvert_exporter": "python",
   "pygments_lexer": "ipython3",
   "version": "3.8.3"
  }
 },
 "nbformat": 4,
 "nbformat_minor": 4
}
